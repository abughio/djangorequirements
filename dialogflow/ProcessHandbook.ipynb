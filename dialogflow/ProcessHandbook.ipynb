{
 "cells": [
  {
   "cell_type": "markdown",
   "metadata": {},
   "source": [
    "# Process Handbook"
   ]
  },
  {
   "cell_type": "markdown",
   "metadata": {},
   "source": [
    "This notebook processes the example handbook (CAHRC_HR_Manual.txt).  This is done in a simple fashion using the following heuristic: If a line of text consisting of less than 5 words is followed by paragraphs of text the assume the line of text with less than 5 words is a topic (i.e. the topic of a question an employee might ask) and that the paragraphs of text are the answer to that question (called action_text for the lack of a better term).\n",
    "\n",
    "When a topic and action_text are found these are stored in Cloud Datastore as a key-value pair with the topic as the key and the action_text as the value."
   ]
  },
  {
   "cell_type": "code",
   "execution_count": 1,
   "metadata": {},
   "outputs": [
    {
     "name": "stdout",
     "output_type": "stream",
     "text": [
      "\u001b[33mSkipping google-cloud-datastore as it is not installed.\u001b[0m\r\n"
     ]
    }
   ],
   "source": [
    "!pip uninstall -y google-cloud-datastore"
   ]
  },
  {
   "cell_type": "code",
   "execution_count": 2,
   "metadata": {},
   "outputs": [
    {
     "name": "stdout",
     "output_type": "stream",
     "text": [
      "Collecting google-cloud-datastore==1.2.0\n",
      "\u001b[?25l  Downloading https://files.pythonhosted.org/packages/ab/04/c261a6236a846dd2aeb4dd74ac7ddc8012b00434a9661d31ad8b7a9bd9b6/google_cloud_datastore-1.2.0-py2.py3-none-any.whl (43kB)\n",
      "\u001b[K    100% |████████████████████████████████| 51kB 2.3MB/s ta 0:00:011\n",
      "\u001b[?25hCollecting google-cloud-core<0.27dev,>=0.26.0 (from google-cloud-datastore==1.2.0)\n",
      "  Downloading https://files.pythonhosted.org/packages/19/b7/94155a5e4f41eba3dfdd557481c95c3763199fb2043294b49e5feb008e91/google_cloud_core-0.26.0-py2.py3-none-any.whl\n",
      "Collecting google-gax<0.16dev,>=0.15.7 (from google-cloud-datastore==1.2.0)\n",
      "\u001b[?25l  Downloading https://files.pythonhosted.org/packages/4f/b4/ff312fa42f91535c67567c1d08e972db0e7c548e9a63c6f3bcc5213b32fc/google_gax-0.15.16-py2.py3-none-any.whl (46kB)\n",
      "\u001b[K    100% |████████████████████████████████| 51kB 16.5MB/s ta 0:00:01\n",
      "\u001b[?25hCollecting gapic-google-cloud-datastore-v1<0.16dev,>=0.15.0 (from google-cloud-datastore==1.2.0)\n",
      "  Downloading https://files.pythonhosted.org/packages/ec/9c/6d69a6e6551006c4e87192a396b983421a6978bc57657619bc998a264b31/gapic-google-cloud-datastore-v1-0.15.3.tar.gz\n",
      "Requirement already satisfied: googleapis-common-protos>=1.3.4 in /usr/local/envs/py2env/lib/python2.7/site-packages (from google-cloud-core<0.27dev,>=0.26.0->google-cloud-datastore==1.2.0) (1.5.5)\n",
      "Requirement already satisfied: six in /usr/local/envs/py2env/lib/python2.7/site-packages (from google-cloud-core<0.27dev,>=0.26.0->google-cloud-datastore==1.2.0) (1.10.0)\n",
      "Requirement already satisfied: requests<3.0.0dev,>=2.4.0 in /usr/local/envs/py2env/lib/python2.7/site-packages (from google-cloud-core<0.27dev,>=0.26.0->google-cloud-datastore==1.2.0) (2.18.4)\n",
      "Requirement already satisfied: google-auth<2.0.0dev,>=0.4.0 in /usr/local/envs/py2env/lib/python2.7/site-packages (from google-cloud-core<0.27dev,>=0.26.0->google-cloud-datastore==1.2.0) (1.6.1)\n",
      "Collecting tenacity<5.0.0dev,>=4.0.0 (from google-cloud-core<0.27dev,>=0.26.0->google-cloud-datastore==1.2.0)\n",
      "  Downloading https://files.pythonhosted.org/packages/75/1b/46a6a7b7c2b16811665ea09b7e63e7e6b7f9b5dedf2d0ba67e029668403c/tenacity-4.12.0-py2.py3-none-any.whl\n",
      "Requirement already satisfied: protobuf>=3.0.0 in /usr/local/envs/py2env/lib/python2.7/site-packages (from google-cloud-core<0.27dev,>=0.26.0->google-cloud-datastore==1.2.0) (3.6.1)\n",
      "Requirement already satisfied: future<0.17dev,>=0.16.0 in /usr/local/envs/py2env/lib/python2.7/site-packages (from google-gax<0.16dev,>=0.15.7->google-cloud-datastore==1.2.0) (0.16.0)\n",
      "Requirement already satisfied: grpcio<2.0dev,>=1.0.2 in /usr/local/envs/py2env/lib/python2.7/site-packages (from google-gax<0.16dev,>=0.15.7->google-cloud-datastore==1.2.0) (1.16.1)\n",
      "Requirement already satisfied: dill<0.3dev,>=0.2.5 in /usr/local/envs/py2env/lib/python2.7/site-packages (from google-gax<0.16dev,>=0.15.7->google-cloud-datastore==1.2.0) (0.2.6)\n",
      "Collecting ply==3.8 (from google-gax<0.16dev,>=0.15.7->google-cloud-datastore==1.2.0)\n",
      "\u001b[?25l  Downloading https://files.pythonhosted.org/packages/96/e0/430fcdb6b3ef1ae534d231397bee7e9304be14a47a267e82ebcb3323d0b5/ply-3.8.tar.gz (157kB)\n",
      "\u001b[K    100% |████████████████████████████████| 163kB 20.7MB/s ta 0:00:01\n",
      "\u001b[?25hRequirement already satisfied: oauth2client<4.0dev,>=2.0.0 in /usr/local/envs/py2env/lib/python2.7/site-packages (from gapic-google-cloud-datastore-v1<0.16dev,>=0.15.0->google-cloud-datastore==1.2.0) (2.2.0)\n",
      "Collecting proto-google-cloud-datastore-v1[grpc]<0.91dev,>=0.90.3 (from gapic-google-cloud-datastore-v1<0.16dev,>=0.15.0->google-cloud-datastore==1.2.0)\n",
      "  Downloading https://files.pythonhosted.org/packages/2a/1f/4124f15e1132a2eeeaf616d825990bb1d395b4c2c37362654ea5cd89bb42/proto-google-cloud-datastore-v1-0.90.4.tar.gz\n",
      "Requirement already satisfied: chardet<3.1.0,>=3.0.2 in /usr/local/envs/py2env/lib/python2.7/site-packages (from requests<3.0.0dev,>=2.4.0->google-cloud-core<0.27dev,>=0.26.0->google-cloud-datastore==1.2.0) (3.0.4)\n",
      "Requirement already satisfied: idna<2.7,>=2.5 in /usr/local/envs/py2env/lib/python2.7/site-packages (from requests<3.0.0dev,>=2.4.0->google-cloud-core<0.27dev,>=0.26.0->google-cloud-datastore==1.2.0) (2.6)\n",
      "Requirement already satisfied: urllib3<1.23,>=1.21.1 in /usr/local/envs/py2env/lib/python2.7/site-packages (from requests<3.0.0dev,>=2.4.0->google-cloud-core<0.27dev,>=0.26.0->google-cloud-datastore==1.2.0) (1.22)\n",
      "Requirement already satisfied: certifi>=2017.4.17 in /usr/local/envs/py2env/lib/python2.7/site-packages (from requests<3.0.0dev,>=2.4.0->google-cloud-core<0.27dev,>=0.26.0->google-cloud-datastore==1.2.0) (2018.10.15)\n",
      "Requirement already satisfied: pyasn1-modules>=0.2.1 in /usr/local/envs/py2env/lib/python2.7/site-packages (from google-auth<2.0.0dev,>=0.4.0->google-cloud-core<0.27dev,>=0.26.0->google-cloud-datastore==1.2.0) (0.2.2)\n",
      "Requirement already satisfied: cachetools>=2.0.0 in /usr/local/envs/py2env/lib/python2.7/site-packages (from google-auth<2.0.0dev,>=0.4.0->google-cloud-core<0.27dev,>=0.26.0->google-cloud-datastore==1.2.0) (2.1.0)\n",
      "Requirement already satisfied: rsa>=3.1.4 in /usr/local/envs/py2env/lib/python2.7/site-packages (from google-auth<2.0.0dev,>=0.4.0->google-cloud-core<0.27dev,>=0.26.0->google-cloud-datastore==1.2.0) (3.4.2)\n",
      "Collecting monotonic>=0.6; python_version == \"2.7\" (from tenacity<5.0.0dev,>=4.0.0->google-cloud-core<0.27dev,>=0.26.0->google-cloud-datastore==1.2.0)\n",
      "  Downloading https://files.pythonhosted.org/packages/ac/aa/063eca6a416f397bd99552c534c6d11d57f58f2e94c14780f3bbf818c4cf/monotonic-1.5-py2.py3-none-any.whl\n",
      "Requirement already satisfied: futures>=3.0; python_version == \"2.7\" in /usr/local/envs/py2env/lib/python2.7/site-packages (from tenacity<5.0.0dev,>=4.0.0->google-cloud-core<0.27dev,>=0.26.0->google-cloud-datastore==1.2.0) (3.2.0)\n",
      "Requirement already satisfied: setuptools in /usr/local/envs/py2env/lib/python2.7/site-packages (from protobuf>=3.0.0->google-cloud-core<0.27dev,>=0.26.0->google-cloud-datastore==1.2.0) (40.6.2)\n",
      "Requirement already satisfied: enum34>=1.0.4 in /usr/local/envs/py2env/lib/python2.7/site-packages (from grpcio<2.0dev,>=1.0.2->google-gax<0.16dev,>=0.15.7->google-cloud-datastore==1.2.0) (1.1.6)\n",
      "Requirement already satisfied: httplib2>=0.9.1 in /usr/local/envs/py2env/lib/python2.7/site-packages (from oauth2client<4.0dev,>=2.0.0->gapic-google-cloud-datastore-v1<0.16dev,>=0.15.0->google-cloud-datastore==1.2.0) (0.12.0)\n",
      "Requirement already satisfied: pyasn1>=0.1.7 in /usr/local/envs/py2env/lib/python2.7/site-packages (from oauth2client<4.0dev,>=2.0.0->gapic-google-cloud-datastore-v1<0.16dev,>=0.15.0->google-cloud-datastore==1.2.0) (0.4.4)\n",
      "Building wheels for collected packages: gapic-google-cloud-datastore-v1, ply, proto-google-cloud-datastore-v1\n",
      "  Running setup.py bdist_wheel for gapic-google-cloud-datastore-v1 ... \u001b[?25ldone\n",
      "\u001b[?25h  Stored in directory: /content/.cache/pip/wheels/79/a9/0f/1b6929a5f1961d22553efa844ea60c589bffcf6e1bd019f7c9\n",
      "  Running setup.py bdist_wheel for ply ... \u001b[?25ldone\n",
      "\u001b[?25h  Stored in directory: /content/.cache/pip/wheels/f2/21/c0/f0056cc96847933daa961a19eb59a2ecd0228fdbe3376e7a68\n",
      "  Running setup.py bdist_wheel for proto-google-cloud-datastore-v1 ... \u001b[?25ldone\n",
      "\u001b[?25h  Stored in directory: /content/.cache/pip/wheels/bd/ce/33/8b769968db3761c42c7a91d8a0dbbafc50acfa0750866c8abd\n",
      "Successfully built gapic-google-cloud-datastore-v1 ply proto-google-cloud-datastore-v1\n",
      "\u001b[31mgoogle-cloud-dataflow 2.0.0 has requirement httplib2<0.10,>=0.8, but you'll have httplib2 0.12.0 which is incompatible.\u001b[0m\n",
      "\u001b[31mgoogle-cloud-dataflow 2.0.0 has requirement proto-google-cloud-datastore-v1==0.90.0, but you'll have proto-google-cloud-datastore-v1 0.90.4 which is incompatible.\u001b[0m\n",
      "\u001b[31mgoogle-cloud-dataflow 2.0.0 has requirement protobuf==3.2.0, but you'll have protobuf 3.6.1 which is incompatible.\u001b[0m\n",
      "\u001b[31mgoogle-cloud-monitoring 0.28.0 has requirement google-cloud-core<0.29dev,>=0.28.0, but you'll have google-cloud-core 0.26.0 which is incompatible.\u001b[0m\n",
      "\u001b[31mgoogle-cloud-bigquery 0.23.0 has requirement google-cloud-core<0.24dev,>=0.23.1, but you'll have google-cloud-core 0.26.0 which is incompatible.\u001b[0m\n",
      "\u001b[31mgoogledatastore 7.0.1 has requirement httplib2<0.10,>=0.9.1, but you'll have httplib2 0.12.0 which is incompatible.\u001b[0m\n",
      "Installing collected packages: monotonic, tenacity, google-cloud-core, ply, google-gax, proto-google-cloud-datastore-v1, gapic-google-cloud-datastore-v1, google-cloud-datastore\n"
     ]
    },
    {
     "name": "stdout",
     "output_type": "stream",
     "text": [
      "  Found existing installation: google-cloud-core 0.28.1\n",
      "    Uninstalling google-cloud-core-0.28.1:\n",
      "      Successfully uninstalled google-cloud-core-0.28.1\n",
      "  Found existing installation: proto-google-cloud-datastore-v1 0.90.0\n",
      "    Uninstalling proto-google-cloud-datastore-v1-0.90.0:\n",
      "      Successfully uninstalled proto-google-cloud-datastore-v1-0.90.0\n",
      "Successfully installed gapic-google-cloud-datastore-v1-0.15.3 google-cloud-core-0.26.0 google-cloud-datastore-1.2.0 google-gax-0.15.16 monotonic-1.5 ply-3.8 proto-google-cloud-datastore-v1-0.90.4 tenacity-4.12.0\n"
     ]
    }
   ],
   "source": [
    "!pip install google-cloud-datastore==1.2.0"
   ]
  },
  {
   "cell_type": "markdown",
   "metadata": {},
   "source": [
    "Hit Reset Session > Restart, then resume with the following cells. "
   ]
  },
  {
   "cell_type": "code",
   "execution_count": 1,
   "metadata": {},
   "outputs": [],
   "source": [
    "from google.cloud import datastore"
   ]
  },
  {
   "cell_type": "code",
   "execution_count": 2,
   "metadata": {},
   "outputs": [],
   "source": [
    "datastore_client = datastore.Client()"
   ]
  },
  {
   "cell_type": "code",
   "execution_count": 3,
   "metadata": {},
   "outputs": [
    {
     "name": "stdout",
     "output_type": "stream",
     "text": [
      "Saved employment equity: [THE ORGANIZATION] is an equal opportunity employer and employs personnel without regard to race, ancestry, place of origin, colour, ethnic origin, language, citizenship, creed, religion, gender, sexual orientation, age, marital status, physical and/or mental handicap or financial ability. While remaining alert and sensitive to the issue of fair and equitable treatment for all, [THE ORGANIZATION] has a special concern with the participation and advancement of members of four designated groups that have traditionally been disadvantaged in employment: women, visible minorities, aboriginal peoples and persons with disabilities.\n",
      "\n",
      "Saved recruitment and selection: All employment opportunities at [the organization]  are posted for a minimum 10 working day period.  They are posted on [THE ORGANIZATION]’s website and on the websites of affiliated organizations.  Occasionally, they are posted on employment websites or with an employment agency.  Applications are encouraged from current employees but will be screened in the same manner as applications received from outside applicants.\n",
      "\n",
      "Saved nepotism: No candidate shall be hired for a position where they may report to, or supervise a member of their immediate family.  Immediate family is defined as: parent(s), step parent(s), foster parent(s), sibling(s), grandparent(s), spouse {including common law a/o same sex partner}, step child(ren) or ward of the staff member, father-in-law or mother-in-law (including parent of same sex partner).  Personal relationships with other employees or members of the [THE ORGANIZATION]’s Board of Directors or Committees of [THE ORGANIZATION] should be disclosed prior to accepting any offer from the employer.  Failure to disclose this information would be considered contradictory to the Code of Ethics policy (Appendix A).\n",
      "\n",
      "Saved orientation: All new employees to [THE ORGANIZATION] shall receive an orientation session which will encompass an overview of general policies, procedures and operations.  This will also provide employees, new to either a position or [THE ORGANIZATION], an opportunity to learn the performance expectations management has with regard to the position in question.  They will be given a copy of this Employee Handbook and will be expected to learn its contents.  They will also make aware of policies such as, Code of Ethics, and asked to sign off on their adherence to same.\n",
      "\n",
      "Saved employee classifications: Each position at [THE ORGANIZATION] shall be classified as either Administrative or Management in nature, as determined by the Executive Director.  This decision will be based on the duties assigned and qualifications required for each position.  It should be noted that Management positions are not covered by the Hours of Work and Overtime provisions of the Employment Standards Act (O. Regulation #285).\n",
      "\n",
      "Saved employee duties: Attached to an Offer of Employment, is a description of the job and the associated responsibilities, along with any additional tasks possibly required.  This document will be used to evaluate performance both during the probation period and after.  If an employee is unsure of its contents, they should not hesitate to ask for clarification.\n",
      "\n",
      "Saved personnel file: [THE ORGANIZATION] does collect personal information for inclusion in personnel files.  This information is available to the employee, the Executive Director and the [INSERT TITLE OF SENIOR HR PERSON].  This information is kept in a secure location, and is not shared with members of our Board or with our funders.  Information which is contained in an employee’s personnel file includes the following: résumé, letter of offer, performance reviews, amendments to job descriptions, disciplinary notices, tax forms, copies of enrolment forms for benefits and approved leave requests.\n",
      "\n",
      "Saved probation: The first six (6) months of employment are probationary.  During this time both parties may assess suitability for employment with the Employer.  This also provides management an opportunity to assess skill levels and address areas of potential concern. During the first ninety (90) days of the probationary period, employment may be terminated by either party for any reason whatsoever, with or without cause, and without notice or payment in lieu of notice, except as may be minimally prescribed by the Employment Standards Act of Ontario (“ESA”), as may be amended from time to time. Upon satisfaction of the requirements under the ESA, as amended, the Employer shall have satisfied any and all obligations to the employee, whether under the ESA, as amended, or at common law. At the completion of the probation period, the employee and employer shall meet and review progress to date.  At this time one of three things will occur:\n",
      "\n",
      "Saved annual salary: Salaries shall be determined by the Executive Director, based on budget considerations and commensurate with the experience of the successful candidate.   The organization shall pay employees on a bi-weekly basis, less the usual and necessary statutory and other deductions payable in accordance with the Employer’s standard payroll practices.  These payroll practices may be changed from time to time at the Employer’s sole discretion.  Currently, payday occurs every second Thursday and covers the pay period ended the previous Saturday.\n",
      "\n",
      "Saved performance appraisals: The performance review document will be a living document for each employee.  Each employee will be responsible for developing their respective workplan for the year.  This plan will be reviewed by Management and amended as necessary.  At the time of the performance appraisal, the employer and employee will review the objectives and the results achieved.  Throughout the year, the employee and employer may refer to this document to track progress made toward objectives, highlight areas of concern and indicate challenges identified along the way.  \n",
      "\n",
      "Saved professionalism: When representing [THE ORGANIZATION], staff should dress and behave appropriately.  Employees should choose to dress in a manner which presents a professional image to the public and is respectful of others.  Excessive use of profanity is neither professional nor respectful to co-workers and will not be tolerated.\n",
      "\n",
      "Saved discipline: Discipline at [THE ORGANIZATION] shall be progressive, depending on the nature of the problem.  Its purpose is to identify unsatisfactory performance and / or unacceptable behaviour.  The stages may be:\n",
      "\n",
      "Saved hours of work: The regular office hours for [THE ORGANIZATION] are 8 a.m. to 4:30 p.m. Monday through Friday inclusive (excluding holidays), with core operational hours being 9 a.m. to 3:30 p.m.  During core hours, it is expected that most staff will be available. All employees are expected to work 7.5 hours per day, which include those hours indicated as core, exclusive of an unpaid eating break of at least thirty (30) minutes. Employees may also be expected to work such other hours as may be requested or required, from time to time. Employees hired on a part time basis will have schedules determined on a case by case basis.  \n",
      "\n",
      "Saved statutory holidays: The Province of Ontario has twelve (12) public holidays and other days for which staff will be paid.  They are:\n",
      "\n",
      "Saved overtime: All overtime must be authorized by the Executive Director in advance of being worked. Employees will be provided with time off in lieu of overtime pay at straight time for all hours worked between thirty-seven and one half (37.5) and forty-four (44) hours per week.  After forty-four (44) hours worked in a week, employees shall accumulate time off in lieu of overtime pay at the rate of time and one-half (1.5) the regular non-overtime rate of pay.  Time in lieu of overtime pay must be taken in the twelve (12) months following it being earned and it must be scheduled with the agreement of the Employer based on its operational requirements.  Overtime, taken in lieu, should be used in ½ day increments.  Pursuant to Ontario regulation #285, employees in a Managerial or Supervisory roles are exempt from the overtime provisions of the Employment Standards Act.\n",
      "\n",
      "Saved termination for cause: An Employment Contract may be terminated by the Employer at any time for cause, without notice or payment in lieu of notice or severance pay whatsoever, except payment of outstanding wages, overtime and vacation pay to the date of termination.  Cause includes, but is not limited to, any act of dishonesty, conflict of interest, breach of confidentiality, harassment, insubordination, or careless, negligent or documented poor work performance.\n",
      "\n",
      "Saved termination without cause: An Employment Contract may be terminated by the Employer at any time and for any reason on a without cause basis, upon the provision of notice or payment of notice instead , and severance pay if applicable, as is minimally required by the ESA, as amended from time to time.  In addition to notice, and pursuant to the ESA, the employee shall be entitled to an additional one (1) week’s notice or payment in lieu of notice for every year of completed service (severance pay) with the Employer to a maximum of sixteen (16) weeks’ notice inclusive of the notice requirements under the ESA. The notice as described in this paragraph is inclusive of all statutory and common law entitlements to notice or payment in lieu of notice.  Upon satisfaction of the requirements under this paragraph, the Employer shall have satisfied any and all obligations to the employee, whether under the ESA, as amended, or at common law.  The notice requirement contained in this clause constitutes a material inducement to the Employer to enter this agreement.\n",
      "\n"
     ]
    },
    {
     "name": "stdout",
     "output_type": "stream",
     "text": [
      "Saved resignation: After completion of the first ninety (90) days of the probationary period, employees must give the Employer two (2) weeks’ notice of resignation. The Employer may waive the resignation notice period in whole or in part at any time by providing payment of regular wages for the period so waived.\n",
      "\n",
      "Saved layoff: Operation requirements are subject to change based on workload and the funding levels received on an annual basis.  All efforts will be made to keep staff in a position similar, in scope and salary, to that they have become accustom to.  If the organization is unable to do this, then employees will receive one (1) week notice for each year of service, as required by the Ontario Labour Code.  For employees who have a minimum of six years of service, this amount will be augmented by one (1) week of severance pay (or equivalent notice) for each year of service.\n",
      "\n",
      "Saved employer property: Upon termination of employment for any reason, all items of any kind created or used pursuant to the employee’s service or furnished by the Employer including but not limited to computers, reports, files, diskettes, manuals, literature, confidential information, or other materials shall remain and be considered the exclusive property of the Employer at all times, and shall be surrendered to the Executive Director, in good condition, promptly and without being requested to do so.\n",
      "\n",
      "Saved sick leave: Employees will be entitled to twelve (12) days of sick leave per calendar year accumulated on the basis of 1 day per month. A maximum of twelve (12) days of sick leave may be carried forward to the next calendar year so that an employee shall have no more than twenty (24) sick days in any one calendar year. Any additional sick leave accumulated will be forfeit.  Moreover, regardless of the amount of sick leave accumulated, sick leave will not be paid out upon resignation, retirement, or termination of employment for any reason. Furthermore, since Sick Leave has no cash value, employees may not use more than they have accumulated, without the express written permission of the Executive Director.  Employees working less than full time will have their rate of accumulation adjusted accordingly.\n",
      "\n",
      "Saved compassionate leave: [THE ORGANIZATION] will grant up to three (3) working days per event on the occasion of a death in the staff member’s immediate family.  Immediate family is defined as: parent(s), step parent(s), foster parent(s), sibling(s), grandparent(s), spouse (including common law a/o same sex partner), step child(ren) or ward of the staff member, father-in-law or mother-in-law (including parent of same sex partner).  \n",
      "\n",
      "Saved jury duty: Employees will be allowed up to two (2) weeks paid time off for jury duty.  After that, employees will be asked to continue jury duty without pay.  Any compensation, covering the first two (2) weeks, received from the court system shall be surrendered to the Organization.  A copy of the notice to serve should be provided for inclusion in the employee’s personnel file.\n",
      "\n",
      "Saved disability leave: Currently, [THE ORGANIZATION]’s benefit package does not provide for Short Term Disability.  [THE ORGANIZATION] does have coverage for Long Term Disability through The Great West Life Assurance Company, with a waiting period of 120 days. To access this coverage, please contact the Manager, Finance and Administration.  For short term disability, employees have the option to apply for EI Benefits for medical reasons. \n",
      "\n",
      "Saved unpaid leave: Employees may take unpaid leave with the written consent of the Executive Director.  During periods of unpaid leave, medical, dental, life and AD&D coverage shall continue to be paid by the employer, vacation shall continue to accrue and seniority shall be maintained.  Contributions to the group RRSP will occur strictly on a matching basis.  If the employee makes a contribution, [THE ORGANIZATION] shall match it; otherwise no contributions shall be made by the Organization.  Every attempt will be made to return employees to a position of equal responsibility on return from leave status, however, no guarantees exists that the exact position left will be available on return. \n",
      "\n",
      "Saved group rrsp: Employees begin participation in the plan after completion of three (3) months of employment.  The contribution by each employee is at least five percent (5%) of their gross salary, which is deducted from their paycheque.  This is matched by the employer to a maximum of five percent (5%).  Employees may not elect to place these contributions with another investment broker / agent while employed by [THE ORGANIZATION].  Withdrawals from the Group RRSP plan are restricted for the duration of employment with [THE ORGANIZATION], unless permission is granted by the Executive Director, and is received in writing.  Participation in Federally sponsored programs such as Home Buyer’s Plan and the Life Long Learning Plan are allowed but also require the written approval of the Executive Director.\n",
      "\n",
      "Saved confidential information: From time to time, employees of [THE ORGANIZATION] may come into contact with confidential information, including but not limited to information about [THE ORGANIZATION]’s members, suppliers, finances and business plans.  Employees are required to keep any such matters that may be disclosed to them or learned by them confidential.\n",
      "\n",
      "Saved intellectual property: Any intellectual property, such as trademarks, copyrights and patents, and any work created by an employee in the course of employment at [THE ORGANIZATION] shall be the property of [THE ORGANIZATION] and the employee is deemed to have waived all rights in favour of [THE ORGANIZATION].  Work, for the purpose of this policy refers to written, creative or media work.  All source material used in presentation or written documents must be acknowledged.\n",
      "\n",
      "Saved smoke free environment: Effective May 31, 2006, the province of Ontario banned smoking in workplaces.  As such, smoking in the offices of [THE ORGANIZATION] is not permitted at any time.  An ‘enclosed workplace’ is defined as the inside of any place, building or structure or conveyance or a part of any of them that a) is covered by a roof or b) employees work in or frequent during the course of their employment whether or not they are acting in the course of their employment at the time, and c) is not primarily a private dwelling\n",
      "\n",
      "Saved scents: [THE ORGANIZATION] is aware that some persons may have allergies or sensitivities to perfumes, lotions, colognes and / or chemical smells.  As a result, we discourage the overuse of these products.\n",
      "\n",
      "Saved pets: The offices of [THE ORGANIZATION] are a place of business, and as such, pets are not welcome during normal working hours.  Staff and visitors with seeing-eye dogs are the exception.\n",
      "\n",
      "Saved renovations: As odours from building materials and noise levels for tools can cause discomfort to employees, renovations will be scheduled to have a minimum impact on employees.  This may include renovating during non work hours (evenings & weekends) and ensuring direct ventilation to control fumes.  Carpets should be installed and cloth furniture unwrapped late in the day so emissions may occur during non working hours.\n",
      "\n"
     ]
    }
   ],
   "source": [
    "employee_handbook = open('CAHRC_HR_Manual.txt', 'r')\n",
    "while True:\n",
    "  \n",
    "  topic = employee_handbook.readline()\n",
    "  if not(topic):\n",
    "    break\n",
    "  \n",
    "  if (topic != '\\r\\n') and (len(topic.split(' ')) < 5):\n",
    "  \n",
    "    action_text = ''\n",
    "        \n",
    "    last_line = ''\n",
    "    line = employee_handbook.readline()\n",
    "    \n",
    "    while (last_line != '\\r\\n') and (line != '\\r\\n') and (len(line.split(' ')) > 5):\n",
    "      \n",
    "      action_text += line\n",
    "      last_line = line\n",
    "      line = employee_handbook.readline()\n",
    "      \n",
    "    if action_text != '':\n",
    "      \n",
    "      kind = 'Topic'\n",
    "      topic_key = datastore_client.key(kind, topic.strip().lower())\n",
    "\n",
    "      topic = datastore.Entity(key=topic_key)\n",
    "      topic['action_text'] = action_text\n",
    "\n",
    "      datastore_client.put(topic)\n",
    "\n",
    "      print('Saved {}: {}'.format(topic.key.name, topic['action_text']))"
   ]
  },
  {
   "cell_type": "code",
   "execution_count": null,
   "metadata": {},
   "outputs": [],
   "source": []
  }
 ],
 "metadata": {
  "kernelspec": {
   "display_name": "Python 2",
   "language": "python",
   "name": "python2"
  },
  "language_info": {
   "codemirror_mode": {
    "name": "ipython",
    "version": 2
   },
   "file_extension": ".py",
   "mimetype": "text/x-python",
   "name": "python",
   "nbconvert_exporter": "python",
   "pygments_lexer": "ipython2",
   "version": "2.7.15"
  }
 },
 "nbformat": 4,
 "nbformat_minor": 2
}
